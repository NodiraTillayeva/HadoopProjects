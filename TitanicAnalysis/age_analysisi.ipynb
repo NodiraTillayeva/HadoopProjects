{
 "cells": [
  {
   "cell_type": "code",
   "execution_count": 3,
   "metadata": {},
   "outputs": [
    {
     "name": "stdout",
     "output_type": "stream",
     "text": [
      "Average Age of Passengers: 29.50318563789152\n"
     ]
    }
   ],
   "source": [
    "from pyspark.sql import SparkSession\n",
    "\n",
    "# Initialize SparkSession\n",
    "spark = SparkSession.builder.appName(\"Titanic Data ETL\").getOrCreate()\n",
    "\n",
    "# Read CSV into DataFrame\n",
    "df = spark.read.csv(r\"C:\\Users\\user\\Desktop\\asd\\train_and_test2.csv\", header=True, inferSchema=True)\n",
    "\n",
    "# Perform simple transformation: calculate average age\n",
    "avg_age = df.groupBy().avg(\"Age\").collect()[0][0]\n",
    "print(f\"Average Age of Passengers: {avg_age}\")\n",
    "\n",
    "# Save transformed DataFrame to a new CSV\n",
    "df.write.csv(\"path_to_output_directory\")\n",
    "\n",
    "# Stop the SparkSession\n",
    "spark.stop()\n"
   ]
  },
  {
   "cell_type": "code",
   "execution_count": null,
   "metadata": {},
   "outputs": [],
   "source": []
  }
 ],
 "metadata": {
  "kernelspec": {
   "display_name": "Python 3",
   "language": "python",
   "name": "python3"
  },
  "language_info": {
   "codemirror_mode": {
    "name": "ipython",
    "version": 3
   },
   "file_extension": ".py",
   "mimetype": "text/x-python",
   "name": "python",
   "nbconvert_exporter": "python",
   "pygments_lexer": "ipython3",
   "version": "3.11.9"
  }
 },
 "nbformat": 4,
 "nbformat_minor": 2
}
